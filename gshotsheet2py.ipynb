{
 "cells": [
  {
   "cell_type": "code",
   "execution_count": null,
   "id": "d43f4819-b4e6-4a49-90e3-62a5d5290cdf",
   "metadata": {},
   "outputs": [],
   "source": [
    "# uncomment, if you are running this for the first time:\n",
    "import sys\n",
    "!{sys.executable} -m pip install gspread oauth2client\n"
   ]
  },
  {
   "cell_type": "code",
   "execution_count": null,
   "id": "75105bf7-8508-4902-bb42-23373fcc92e8",
   "metadata": {
    "tags": []
   },
   "outputs": [],
   "source": [
    "%matplotlib widget\n",
    "from importlib import reload\n",
    "\n",
    "import gshotsheet2py as gs_\n",
    "def gs():\n",
    "    reload(gs_)\n",
    "    return gs_\n",
    "\n",
    "from datetime import datetime, time, timedelta\n",
    "day = timedelta(days=1)\n",
    "min = timedelta(minutes=1)\n",
    "h = timedelta(hours=1)\n",
    "today = datetime.today()\n",
    "now = datetime.now()"
   ]
  },
  {
   "cell_type": "code",
   "execution_count": null,
   "id": "19f6e997-e340-4209-90dd-04bdd5504f7a",
   "metadata": {},
   "outputs": [],
   "source": [
    "shotsheet = gs().Shotsheet('Logbook MEC L-10388')"
   ]
  },
  {
   "cell_type": "code",
   "execution_count": null,
   "id": "509beeff-bfba-4269-b301-76b01892740e",
   "metadata": {},
   "outputs": [],
   "source": [
    "# retrieve data from shot sheet: shotsheet.get(key,run_number)\n",
    "# if the field is empty, we assume that the value is the same as in the previous run!\n",
    "print(shotsheet.get(\"laser energy\",0))\n",
    "print(shotsheet.get_unit(\"laser energy\"))\n",
    "\n",
    "# write data to shot sheet (by default it is written into the workbook named \"python\": shotsheet.write(key,data_to_write,run_number)\n",
    "shotsheet.write(\"comment\",\"test\",20)\n",
    "# if the key does not exist yet, you can force it to be created:\n",
    "shotsheet.write(\"new_key\",\"test\",20, new_key=True)\n",
    "# if data is already in the cell, to force overwite:\n",
    "shotsheet.write(\"comment\",\"overwritten\",20, overwrite = True)\n",
    "# get it like this:\n",
    "print(shotsheet.get(\"comment\",20,python=True))\n",
    "\n",
    "# get a dict for all runs:\n",
    "all_data = shotsheet.get_all()\n",
    "all_data_python = shotsheet.get_all(python=True)\n",
    "#examples for filter:\n",
    "all_data_today = shotsheet.get_all(filter={\"Date\":today,\"shot_type\":\"mainshot\"})\n",
    "all_data_today = shotsheet.get_all(filter={\"Date\":(now-1*h, now),\"shot_type\"})\n",
    "#get raw data\n",
    "metadata = shotsheet.records\n",
    "python = shotsheet.records_python"
   ]
  }
 ],
 "metadata": {
  "kernelspec": {
   "display_name": "Python 3 (ipykernel)",
   "language": "python",
   "name": "python3"
  },
  "language_info": {
   "codemirror_mode": {
    "name": "ipython",
    "version": 3
   },
   "file_extension": ".py",
   "mimetype": "text/x-python",
   "name": "python",
   "nbconvert_exporter": "python",
   "pygments_lexer": "ipython3",
   "version": "3.9.15"
  }
 },
 "nbformat": 4,
 "nbformat_minor": 5
}
