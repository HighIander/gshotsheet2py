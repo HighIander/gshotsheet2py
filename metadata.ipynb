{
 "cells": [
  {
   "cell_type": "code",
   "execution_count": null,
   "id": "d43f4819-b4e6-4a49-90e3-62a5d5290cdf",
   "metadata": {},
   "outputs": [],
   "source": [
    "# uncomment, if you are running this for the first time:\n",
    "#import sys\n",
    "#!{sys.executable} -m pip install gspread oauth2client"
   ]
  },
  {
   "cell_type": "code",
   "execution_count": 1,
   "id": "75105bf7-8508-4902-bb42-23373fcc92e8",
   "metadata": {
    "tags": []
   },
   "outputs": [],
   "source": [
    "import metadata as md"
   ]
  },
  {
   "cell_type": "code",
   "execution_count": 2,
   "id": "19f6e997-e340-4209-90dd-04bdd5504f7a",
   "metadata": {},
   "outputs": [],
   "source": [
    "metadata = md.Metadata('Logbook MEC L-10388')"
   ]
  },
  {
   "cell_type": "code",
   "execution_count": 98,
   "id": "509beeff-bfba-4269-b301-76b01892740e",
   "metadata": {},
   "outputs": [],
   "source": [
    "# retrieve data from shot sheet: metadata.get(key,run_number)\n",
    "# if the field is empty, we assume that the value is the same as in the previous run!\n",
    "metadata.get(\"laser energy\",0)\n",
    "metadata.get_unit(\"laser energy\")\n",
    "\n",
    "# write data to shot sheet (by default it is written into the workbook named \"python\": metadata.set(key,data_to_write,run_number)\n",
    "metadata.set(\"comment\",\"test\",20)\n",
    "# if the key does not exist yet, you can force it to be created:\n",
    "metadata.set(\"new_key\",\"test\",20, new_key=True)\n",
    "# if data is already in the cell, to force overwite:\n",
    "metadata.set(\"comment\",\"overwritten\",20, overwrite = True)\n",
    "# get it like this:\n",
    "metadata.get(\"comment\",20,python=True)\n",
    "\n",
    "# get a dict for all runs:\n",
    "metadata.get_all()\n",
    "metadata.get_all(python=True)\n",
    "\n",
    "#get raw data"
   ]
  }
 ],
 "metadata": {
  "kernelspec": {
   "display_name": "Python 3",
   "language": "python",
   "name": "python3"
  },
  "language_info": {
   "codemirror_mode": {
    "name": "ipython",
    "version": 3
   },
   "file_extension": ".py",
   "mimetype": "text/x-python",
   "name": "python",
   "nbconvert_exporter": "python",
   "pygments_lexer": "ipython3",
   "version": "3.8.12"
  }
 },
 "nbformat": 4,
 "nbformat_minor": 5
}
